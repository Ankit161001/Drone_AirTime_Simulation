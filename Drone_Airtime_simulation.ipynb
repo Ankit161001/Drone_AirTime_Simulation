{
 "cells": [
  {
   "cell_type": "markdown",
   "metadata": {},
   "source": [
    "<h2>Simulation for Drone Air Time Comprisons</h2>"
   ]
  },
  {
   "cell_type": "markdown",
   "metadata": {},
   "source": [
    "<h4>Variables (Assigned estimated values)</h4>"
   ]
  },
  {
   "cell_type": "code",
   "execution_count": 1,
   "metadata": {},
   "outputs": [],
   "source": [
    "total_time = 1440 #24 hours converted into minutes\n",
    "total_charge_1 = 20 #charging time for the drones is taken as 20 minutes\n",
    "total_charge_2 = 20 #charging time for the drones is taken as 20 minutes\n",
    "warning_time_1 = 2 #time at which the drone of model 1 starts its approach towards their respective charging station\n",
    "warning_time_2 = 4 #time at which the drone of model 2 starts its approach towards their respective charging station\n",
    "time_to_charge = 30 #time taken by drones to charge fully is 30 minutes\n",
    "air_time_1 = 0\n",
    "air_time_2 = 0\n",
    "time_to_leave_zone = 1 #time taken by drones to leave their assigned surveillance zones "
   ]
  },
  {
   "cell_type": "code",
   "execution_count": 2,
   "metadata": {},
   "outputs": [],
   "source": [
    "import random"
   ]
  },
  {
   "cell_type": "markdown",
   "metadata": {},
   "source": [
    "<h4>Air time calculation of drone of Model 1 over 7 days:</h4> "
   ]
  },
  {
   "cell_type": "code",
   "execution_count": 3,
   "metadata": {},
   "outputs": [
    {
     "name": "stdout",
     "output_type": "stream",
     "text": [
      "489.0\n",
      "495.5\n",
      "497.5\n",
      "498.5\n",
      "503.0\n",
      "500.0\n",
      "502.0\n"
     ]
    }
   ],
   "source": [
    "airtime1 = []\n",
    "for i in range (0,7):\n",
    "    air_time_1 = 0\n",
    "    time = 0.0\n",
    "    while time <= 1440  and time >= 0:\n",
    "        time = time + 0.5\n",
    "        total_charge_1 = total_charge_1 - 0.5\n",
    "        if (total_charge_1 == warning_time_1):\n",
    "            air_time_1 = air_time_1 + time_to_leave_zone\n",
    "            time = time + time_to_leave_zone\n",
    "            time_to_reach_station = random.choice([1,1.5,2])\n",
    "            time = time + time_to_reach_station\n",
    "            queue_wait_time = random.choice([0.5,1])\n",
    "            time = time + queue_wait_time\n",
    "            time = time + time_to_charge + time_to_reach_station\n",
    "            total_charge_1 = 20\n",
    "            total_charge_1 = total_charge_1 - time_to_reach_station\n",
    "            air_time_1 = air_time_1 + time_to_leave_zone\n",
    "            total_charge_1 = total_charge_1 - time_to_leave_zone\n",
    "            time = time + time_to_leave_zone\n",
    "            \n",
    "        if (total_charge_1 > warning_time_1):\n",
    "            air_time_1 = air_time_1 + 0.5\n",
    "        \n",
    "        if (total_charge_1 < warning_time_1):\n",
    "            pass\n",
    "            \n",
    "    airtime1.append(air_time_1)\n",
    "    print(airtime1[i])"
   ]
  },
  {
   "cell_type": "markdown",
   "metadata": {},
   "source": [
    "<h4>AIr time calculation of drone of Model 2 over 7 days:</h4>"
   ]
  },
  {
   "cell_type": "code",
   "execution_count": 4,
   "metadata": {},
   "outputs": [
    {
     "name": "stdout",
     "output_type": "stream",
     "text": [
      "419.5\n",
      "419.5\n",
      "427.5\n",
      "417.0\n",
      "427.5\n",
      "421.5\n",
      "426.0\n"
     ]
    }
   ],
   "source": [
    "airtime2 = []\n",
    "for i in range (0,7):\n",
    "    air_time_2 = 0\n",
    "    time = 0.0\n",
    "    while time <= 1440  and time >= 0:\n",
    "        time = time + 0.5\n",
    "        total_charge_2 = total_charge_2 - 0.5\n",
    "        if (total_charge_2 == warning_time_2):\n",
    "            air_time_2 = air_time_2 + time_to_leave_zone\n",
    "            time = time + time_to_leave_zone\n",
    "            time_to_reach_station = random.choice([1,1.5,2,2.5,3,3.5,4])\n",
    "            time = time + time_to_reach_station\n",
    "            queue_wait_time = random.choice([0.5,1])\n",
    "            time = time + queue_wait_time\n",
    "            time = time + time_to_charge + time_to_reach_station\n",
    "            total_charge_2 = 20\n",
    "            total_charge_2 = total_charge_2 - time_to_reach_station\n",
    "            air_time_2 = air_time_2 + time_to_leave_zone\n",
    "            total_charge_2 = total_charge_2 - time_to_leave_zone\n",
    "            time = time + time_to_leave_zone\n",
    "            \n",
    "        if (total_charge_2 > warning_time_2):\n",
    "            air_time_2 = air_time_2 + 0.5\n",
    "        \n",
    "        if (total_charge_2 < warning_time_2):\n",
    "            pass\n",
    "            \n",
    "    airtime2.append(air_time_2)\n",
    "    print(airtime2[i])"
   ]
  },
  {
   "cell_type": "markdown",
   "metadata": {},
   "source": [
    "<h4>Converting the respective air times into hours:</h4>"
   ]
  },
  {
   "cell_type": "code",
   "execution_count": 5,
   "metadata": {},
   "outputs": [
    {
     "name": "stdout",
     "output_type": "stream",
     "text": [
      "[8.15, 8.258333333333333, 8.291666666666666, 8.308333333333334, 8.383333333333333, 8.333333333333334, 8.366666666666667]\n",
      "[6.991666666666666, 6.991666666666666, 7.125, 6.95, 7.125, 7.025, 7.1]\n"
     ]
    }
   ],
   "source": [
    "#The flight time in hours\n",
    "airtime1_hours = []\n",
    "airtime2_hours = []\n",
    "for i in range(0, len(airtime1)):\n",
    "    x = airtime1[i]/60\n",
    "    airtime1_hours.append(x)\n",
    "for i in range(0, len(airtime2)):\n",
    "    x = airtime2[i]/60\n",
    "    airtime2_hours.append(x)\n",
    "print(airtime1_hours)\n",
    "print(airtime2_hours)"
   ]
  },
  {
   "cell_type": "markdown",
   "metadata": {},
   "source": [
    "<h4>The graph plot:</h4>"
   ]
  },
  {
   "cell_type": "code",
   "execution_count": 6,
   "metadata": {},
   "outputs": [],
   "source": [
    "import matplotlib.pyplot as plt\n",
    "import numpy as np"
   ]
  },
  {
   "cell_type": "code",
   "execution_count": 14,
   "metadata": {},
   "outputs": [
    {
     "data": {
      "image/png": "[encoded data removed]",
      "text/plain": [
       "<Figure size 432x288 with 1 Axes>"
      ]
     },
     "metadata": {
      "needs_background": "light"
     },
     "output_type": "display_data"
    }
   ],
   "source": [
    "#Plotting the airtime comparison graph\n",
    "xpoints = np.array([1,2,3,4,5,6,7])\n",
    "ypoints1 = np.array(airtime1_hours)\n",
    "ypoints2 = np.array(airtime2_hours)\n",
    "ypoints3 = np.array([5,5,5,5,5,5,5])\n",
    "ypoints4 = np.array([9,9,9,9,9,9,9])\n",
    "plt.plot(xpoints, ypoints1, marker = 'o', color = 'r', label ='Model 1')\n",
    "plt.plot(xpoints, ypoints2, marker = 'o', color = 'b', label ='Model 2')\n",
    "plt.plot(xpoints, ypoints3, marker = 'o', color = 'w')\n",
    "plt.plot(xpoints, ypoints4, marker = 'o', color = 'w')\n",
    "plt.title(\"Air Time Comparison Data\")\n",
    "plt.xlabel(\"Days of the Week\")\n",
    "plt.ylabel(\"Air Time in Hours\")\n",
    "plt.legend(loc =\"lower right\")\n",
    "plt.grid()\n",
    "plt.show()"
   ]
  },
  {
   "cell_type": "markdown",
   "metadata": {},
   "source": [
    "<h4>Calculating the average difference in airtimes:</h4>"
   ]
  },
  {
   "cell_type": "code",
   "execution_count": 8,
   "metadata": {},
   "outputs": [
    {
     "name": "stdout",
     "output_type": "stream",
     "text": [
      "The average difference in airtimes of two models is::  1.254761904761905\n"
     ]
    }
   ],
   "source": [
    "diff_airtime = 0\n",
    "for i in range (0, len(airtime1_hours)):\n",
    "    x = airtime1_hours[i] - airtime2_hours[i]\n",
    "    diff_airtime = diff_airtime + x\n",
    "avg_diff_airtime = diff_airtime / 7\n",
    "print(\"The average difference in airtimes of two models is:: \",avg_diff_airtime)"
   ]
  }
 ],
 "metadata": {
  "kernelspec": {
   "display_name": "Python 3 (ipykernel)",
   "language": "python",
   "name": "python3"
  },
  "language_info": {
   "codemirror_mode": {
    "name": "ipython",
    "version": 3
   },
   "file_extension": ".py",
   "mimetype": "text/x-python",
   "name": "python",
   "nbconvert_exporter": "python",
   "pygments_lexer": "ipython3",
   "version": "3.7.6"
  }
 },
 "nbformat": 4,
 "nbformat_minor": 2
}
